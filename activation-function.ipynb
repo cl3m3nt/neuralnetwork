{
 "nbformat": 4,
 "nbformat_minor": 2,
 "metadata": {
  "language_info": {
   "name": "python",
   "codemirror_mode": {
    "name": "ipython",
    "version": 3
   },
   "version": "3.6.8-final"
  },
  "orig_nbformat": 2,
  "file_extension": ".py",
  "mimetype": "text/x-python",
  "name": "python",
  "npconvert_exporter": "python",
  "pygments_lexer": "ipython3",
  "version": 3,
  "kernelspec": {
   "name": "python36864bitcodaiconda6b6c72a496a146eba3c3e88dd2effa6f",
   "display_name": "Python 3.6.8 64-bit ('codai': conda)"
  }
 },
 "cells": [
  {
   "cell_type": "code",
   "execution_count": 2,
   "metadata": {},
   "outputs": [],
   "source": [
    "import os\n",
    "import numpy as np\n",
    "import matplotlib.pyplot as plt \n",
    "import seaborn as sns"
   ]
  },
  {
   "cell_type": "code",
   "execution_count": 10,
   "metadata": {},
   "outputs": [
    {
     "name": "stdout",
     "output_type": "stream",
     "text": "[0. 0. 0. 0. 0.]\n(5,)\n[1. 1. 1. 1. 1. 1. 1. 1. 1. 1.]\n(10,)\n"
    }
   ],
   "source": [
    "# init test vectors\n",
    "vector1 = np.zeros(5)\n",
    "vector1bis = np.array([1,0,0,0,0])\n",
    "vector2 = np.ones(10)\n",
    "vector3 = np.ones(100000)\n",
    "print(vector1)\n",
    "print(vector1.shape)\n",
    "print(vector2)\n",
    "print(vector2.shape)"
   ]
  },
  {
   "cell_type": "code",
   "execution_count": 17,
   "metadata": {},
   "outputs": [],
   "source": [
    "# this function takes a randomly long vector and compute the linear combina\n",
    "def linearActivation(input):\n",
    "    input_len = len(input)\n",
    "    weight = np.random.rand(input_len)\n",
    "    w0 = 1\n",
    "    output = (input * weight).sum() + w0\n",
    "    return output"
   ]
  },
  {
   "cell_type": "code",
   "execution_count": 15,
   "metadata": {},
   "outputs": [],
   "source": [
    "def sigmoidActivation(input):\n",
    "    input_len = len(input)\n",
    "    weight = np.random.rand(input_len)\n",
    "    w0 = 1\n",
    "    output = 1 / (1 + np.exp(-(input*weight).sum()+w0))\n",
    "    return output"
   ]
  },
  {
   "cell_type": "code",
   "execution_count": 26,
   "metadata": {},
   "outputs": [],
   "source": [
    "def reluActivation(input):\n",
    "    input_len = len(input)\n",
    "    weight = np.random.rand(input_len)\n",
    "    w0 = 1\n",
    "    temp = (input * weight).sum() + w0\n",
    "    if temp > 0:\n",
    "        output = temp\n",
    "    else:\n",
    "        output = 0\n",
    "    return output"
   ]
  },
  {
   "cell_type": "code",
   "execution_count": 30,
   "metadata": {},
   "outputs": [],
   "source": [
    "def tanhActivation(input):\n",
    "    input_len = len(input)\n",
    "    weight = np.random.rand(input_len)\n",
    "    w0 = 0\n",
    "    output = 2 / (1 + np.exp(2 *(-input*weight).sum()+w0)) - 1\n",
    "    return output"
   ]
  },
  {
   "cell_type": "code",
   "execution_count": null,
   "metadata": {},
   "outputs": [],
   "source": []
  }
 ]
}